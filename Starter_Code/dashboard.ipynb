{
 "cells": [
  {
   "cell_type": "markdown",
   "metadata": {},
   "source": [
    "# San Francisco Rental Prices Dashboard\n",
    "\n",
    "In this notebook, you will compile the visualizations from the previous analysis into functions that can be used for a Panel dashboard."
   ]
  },
  {
   "cell_type": "code",
   "execution_count": 15,
   "metadata": {},
   "outputs": [],
   "source": [
    "# imports\n",
    "import panel as pn\n",
    "pn.extension('plotly')\n",
    "import plotly.express as px\n",
    "import pandas as pd\n",
    "import hvplot.pandas\n",
    "import matplotlib.pyplot as plt\n",
    "import os\n",
    "from pathlib import Path\n",
    "from dotenv import load_dotenv"
   ]
  },
  {
   "cell_type": "code",
   "execution_count": 16,
   "metadata": {},
   "outputs": [],
   "source": [
    "# Read the Mapbox API key\n",
    "load_dotenv()\n",
    "map_box_api = os.getenv(\"Mapbox_Key\")\n",
    "px.set_mapbox_access_token(map_box_api)"
   ]
  },
  {
   "cell_type": "markdown",
   "metadata": {},
   "source": [
    "# Import Data"
   ]
  },
  {
   "cell_type": "code",
   "execution_count": 22,
   "metadata": {},
   "outputs": [],
   "source": [
    "# Import the necessary CSVs to Pandas DataFrames\n",
    "# YOUR CODE HERE!\n",
    "sfo_path = Path('/Users/whitneyturner/Pyviz-Homework/Starter_Code/Data/sfo_neighborhoods_census_data.csv')\n",
    "sfo_data = pd.read_csv(sfo_path, index_col=\"year\")\n",
    "file_path2 = Path('Data/neighborhoods_coordinates.csv')\n",
    "location_df = pd.read_csv(file_path2)"
   ]
  },
  {
   "cell_type": "markdown",
   "metadata": {},
   "source": [
    "- - -"
   ]
  },
  {
   "cell_type": "markdown",
   "metadata": {},
   "source": [
    "## Panel Visualizations\n",
    "\n",
    "In this section, you will copy the code for each plot type from your analysis notebook and place it into separate functions that Panel can use to create panes for the dashboard. \n",
    "\n",
    "These functions will convert the plot object to a Panel pane.\n",
    "\n",
    "Be sure to include any DataFrame transformation/manipulation code required along with the plotting code.\n",
    "\n",
    "Return a Panel pane object from each function that can be used to build the dashboard.\n",
    "\n",
    "Note: Remove any `.show()` lines from the code. We want to return the plots instead of showing them. The Panel dashboard will then display the plots."
   ]
  },
  {
   "cell_type": "code",
   "execution_count": 45,
   "metadata": {},
   "outputs": [],
   "source": [
    "# Define Panel Visualization Functions\n",
    "def housing_units_per_year():\n",
    "    \"\"\"Housing Units Per Year.\"\"\"\n",
    "    \n",
    "    # YOUR CODE HERE!\n",
    "    housing_units_per_year = sfo_data['housing_units'].groupby('year').mean()\n",
    "    max1 = housing_units_per_year.max()\n",
    "    min1 = housing_units_per_year.min()\n",
    "    std1 = housing_units_per_year.std()\n",
    "    housing_plot = housing_units_per_year.plot.bar(title = 'Housing Units in San Francisco per Year', y = std1, ylim = (min1 - 3000, max1 + 500))\n",
    "    return housing_plot\n",
    "\n",
    "def average_gross_rent():\n",
    "    \"\"\"Average Gross Rent in San Francisco Per Year.\"\"\"\n",
    "    \n",
    "    # YOUR CODE HERE!\n",
    "    avg_gross_rent_plot = avg_rent.plot.line(title = 'Average Gross Rent by Year', color = 'orange')\n",
    "    avg_rent = pd.DataFrame(sfo_data['gross_rent'].groupby('year').mean())\n",
    "    return avg_gross_rent_plot\n",
    "\n",
    "\n",
    "def average_sales_price():\n",
    "    \"\"\"Average Sales Price Per Year.\"\"\"\n",
    "    \n",
    "    # YOUR CODE HERE\n",
    "    avg_per_foot = pd.DataFrame(sfo_data['sale_price_sqr_foot'].groupby('year').mean())\n",
    "    avg_sales_price_plot = avg_per_foot.plot.line(title = 'Average Price per SqFt by Year')\n",
    "    return avg_sales_price_plot\n",
    "\n",
    "\n",
    "def average_price_by_neighborhood():\n",
    "    \"\"\"Average Prices by Neighborhood.\"\"\"\n",
    "    \n",
    "    # YOUR CODE HERE!\n",
    "    df_costs = sfo_data.groupby([sfo_data.index, \"neighborhood\"]).mean()\n",
    "    df_costs.reset_index(inplace=True)\n",
    "    avg_price_by_neighborhhod_plot = df_costs.hvplot.line(x= \"year\", y = 'sale_price_sqr_foot', groupby = 'neighborhood')\n",
    "    return avg_price_by_neighborhhod_plot\n",
    "\n",
    "\n",
    "\n",
    "def top_most_expensive_neighborhoods():\n",
    "    \"\"\"Top 10 Most Expensive Neighborhoods.\"\"\"\n",
    "\n",
    "    # YOUR CODE HERE!\n",
    "    df_exclusive = sfo_data.groupby(\"neighborhood\").mean()\n",
    "    df_exclusive1 = df_exclusive.sort_values('sale_price_sqr_foot', ascending = False)\n",
    "    df_exclusive2 = df_exclusive1.reset_index()\n",
    "    df_top_ten = df_exclusive2.head(10)\n",
    "    most_expensive__neighborhoods_plot = df_top_ten.hvplot.bar(title = 'Top 10 Expensive Neighborhoods in San Francisco', x = 'neighborhood', y = 'sale_price_sqr_foot', ylabel = 'avg_price_per_sqr_foot',rot=90)\n",
    "    return most_expensive_neighborhoods_plot\n",
    "\n",
    "def most_expensive_neighborhoods_rent_sales():\n",
    "    \"\"\"Comparison of Rent and Sales Prices of Most Expensive Neighborhoods.\"\"\"   \n",
    "    \n",
    "    # YOUR CODE HERE!\n",
    "    df_expensive_neighborhoods_per_year = df_costs[df_costs[\"neighborhood\"].isin(df_exclusive2[\"neighborhood\"])]\n",
    "    df_expensive_neighborhoods_per_year.head()\n",
    "    most_expensive_neighborhoods_rent_sales_plot = df_costs.hvplot(\n",
    "    y=[\"sale_price_sqr_foot\", \"gross_rent\"],\n",
    "    groupby = 'neighborhood',\n",
    "    kind = \"bar\",\n",
    "    ylabel=\"Cost of Dwelling\",\n",
    "    title=\"Home Purchase vs. Rental costs\",\n",
    "    x= 'year',\n",
    "    rot=90\n",
    ")\n",
    "    return most_expensive_neighborhoods_rent_sales_plot\n",
    "    \n",
    "    \n",
    "def parallel_coordinates():\n",
    "    \"\"\"Parallel Coordinates Plot.\"\"\"\n",
    "\n",
    "    # YOUR CODE HERE!\n",
    "    parallel_coordinates_plt = px.parallel_coordinates(df_expensive_neighborhoods_per_year, color = 'sale_price_sqr_foot')\n",
    "    return parallel_coordinates_plt\n",
    "\n",
    "\n",
    "def parallel_categories():\n",
    "    \"\"\"Parallel Categories Plot.\"\"\"\n",
    "    \n",
    "    # YOUR CODE HERE!\n",
    "    parallel_categories_plt = px.parallel_categories(\n",
    "    df_top_ten,\n",
    "    dimensions=['neighborhood', 'sale_price_sqr_foot', 'housing_units', 'gross_rent'],\n",
    "    )\n",
    "    return parallel_categories_plt\n",
    "\n",
    "\n",
    "def neighborhood_map():\n",
    "    \"\"\"Neighborhood Map.\"\"\"\n",
    "\n",
    "    # YOUR CODE HERE!\n",
    "    avg_neighborhood = sfo_data.groupby('neighborhood').mean()\n",
    "    avg_neighborhood1 = avg_neighborhood.reset_index().drop(columns = 'neighborhood')\n",
    "    avg_val_by_location = pd.concat([location_df, avg_neighborhood1], axis=\"columns\", join = 'inner')\n",
    "\n",
    "    neighborhood_map= px.scatter_mapbox(\n",
    "    avg_val_by_location,\n",
    "    lat=\"Lat\",\n",
    "    lon=\"Lon\",\n",
    "    color=\"Neighborhood\"\n",
    "    )\n",
    "    return neighborhood_map\n",
    "\n",
    "def sunburst():\n",
    "    \"\"\"Sunburst Plot.\"\"\"\n",
    "    \n",
    "    # YOUR CODE HERE!\n",
    "    fig = px.sunburst(\n",
    "    df_expensive_neighborhoods_per_year,\n",
    "    labels = 'neighborhoods',\n",
    "    parents = 'year',\n",
    "    values ='gross_rent'\n",
    "    )\n",
    "    return fig"
   ]
  },
  {
   "cell_type": "markdown",
   "metadata": {},
   "source": [
    "## Panel Dashboard\n",
    "\n",
    "In this section, you will combine all of the plots into a single dashboard view using Panel. Be creative with your dashboard design!"
   ]
  },
  {
   "cell_type": "code",
   "execution_count": null,
   "metadata": {},
   "outputs": [],
   "source": [
    "# Create a Title for the Dashboard\n",
    "# YOUR CODE HERE!\n",
    "city_living_dashbord = '# How Expensive is it to live in San Francisco? Really Expensive!'\n",
    "\n",
    "# Create a tab layout for the dashboard\n",
    "# YOUR CODE HERE!\n",
    "city_living_dashboard = pn.Tabs(\n",
    "    (\"Housing Units Per Year.\", housing_plot), (\"Average Gross Rent in San Francisco Per Year\", avg_gross_rent_plot), (\"Average Sales Price Per Year\", avg_sales_price_plot),(\"Average Prices by Neighborhood\", avg_price_by_neighborhhod_plot), (\"\")  \n",
    ")\n",
    "\n",
    "# Create the dashboard\n",
    "# YOUR CODE HERE!"
   ]
  },
  {
   "cell_type": "markdown",
   "metadata": {},
   "source": [
    "## Serve the Panel Dashboard"
   ]
  },
  {
   "cell_type": "code",
   "execution_count": null,
   "metadata": {},
   "outputs": [],
   "source": [
    "# Serve the# dashboard\n",
    "# YOUR CODE HERE!"
   ]
  },
  {
   "cell_type": "markdown",
   "metadata": {},
   "source": [
    "# Debugging\n",
    "\n",
    "Note: Some of the Plotly express plots may not render in the notebook through the panel functions.\n",
    "\n",
    "However, you can test each plot by uncommenting the following code"
   ]
  },
  {
   "cell_type": "code",
   "execution_count": null,
   "metadata": {},
   "outputs": [],
   "source": [
    "# housing_units_per_year()"
   ]
  },
  {
   "cell_type": "code",
   "execution_count": null,
   "metadata": {},
   "outputs": [],
   "source": [
    "# average_gross_rent()"
   ]
  },
  {
   "cell_type": "code",
   "execution_count": null,
   "metadata": {},
   "outputs": [],
   "source": [
    "# average_sales_price()"
   ]
  },
  {
   "cell_type": "code",
   "execution_count": null,
   "metadata": {},
   "outputs": [],
   "source": [
    "# average_price_by_neighborhood()"
   ]
  },
  {
   "cell_type": "code",
   "execution_count": null,
   "metadata": {},
   "outputs": [],
   "source": [
    "# top_most_expensive_neighborhoods()"
   ]
  },
  {
   "cell_type": "code",
   "execution_count": null,
   "metadata": {},
   "outputs": [],
   "source": [
    "# most_expensive_neighborhoods_rent_sales()"
   ]
  },
  {
   "cell_type": "code",
   "execution_count": null,
   "metadata": {},
   "outputs": [],
   "source": [
    "# neighborhood_map().show()"
   ]
  },
  {
   "cell_type": "code",
   "execution_count": null,
   "metadata": {},
   "outputs": [],
   "source": [
    "# parallel_categories()"
   ]
  },
  {
   "cell_type": "code",
   "execution_count": null,
   "metadata": {},
   "outputs": [],
   "source": [
    "# parallel_coordinates()"
   ]
  },
  {
   "cell_type": "code",
   "execution_count": null,
   "metadata": {},
   "outputs": [],
   "source": [
    "# sunburst()"
   ]
  },
  {
   "cell_type": "code",
   "execution_count": null,
   "metadata": {},
   "outputs": [],
   "source": []
  }
 ],
 "metadata": {
  "file_extension": ".py",
  "kernelspec": {
   "display_name": "pyvizenv",
   "language": "python",
   "name": "pyvizenv"
  },
  "language_info": {
   "codemirror_mode": {
    "name": "ipython",
    "version": 3
   },
   "file_extension": ".py",
   "mimetype": "text/x-python",
   "name": "python",
   "nbconvert_exporter": "python",
   "pygments_lexer": "ipython3",
   "version": "3.8.5"
  },
  "mimetype": "text/x-python",
  "name": "python",
  "npconvert_exporter": "python",
  "pygments_lexer": "ipython3",
  "version": 3
 },
 "nbformat": 4,
 "nbformat_minor": 4
}
